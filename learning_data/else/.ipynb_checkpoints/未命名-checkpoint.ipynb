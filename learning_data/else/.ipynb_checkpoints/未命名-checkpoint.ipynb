{
 "cells": [
  {
   "cell_type": "code",
   "execution_count": 5,
   "metadata": {},
   "outputs": [
    {
     "name": "stdout",
     "output_type": "stream",
     "text": [
      "1 孙少平 少平\n",
      "\n",
      "1 顾养民 养民\n",
      "\n",
      "1 金波\n",
      "\n",
      "1 田福堂 福堂\n",
      "\n",
      "1 田润生 润生\n",
      "\n",
      "125\n"
     ]
    }
   ],
   "source": [
    "# 读取所有的人物，共125人\n",
    "with open(r\"./new_name.txt\") as fr:\n",
    "    new_name=fr.readlines()\n",
    "for i in range(5):\n",
    "    print(new_name[i])  # 性别，人名，别名，等\n",
    "print(len(new_name))"
   ]
  },
  {
   "cell_type": "code",
   "execution_count": 6,
   "metadata": {},
   "outputs": [
    {
     "name": "stdout",
     "output_type": "stream",
     "text": [
      "145\t“好！”\n",
      "\n",
      "146\t“我担心这小子要和我打架。”\n",
      "\n",
      "148\t“他小子敢！”\n",
      "\n",
      "235\t“《红岩》是一本好书，但以后你不要在课堂上看了。去吧……” \n",
      "\n",
      "261\t“那天，老师没收了你的那本书，叫什么名字？” \n",
      "\n",
      "2968\n"
     ]
    }
   ],
   "source": [
    "#读取对话,共2968句\n",
    "with open(r\"./quote.txt\") as fr:\n",
    "    quote = fr.readlines()\n",
    "for i in range(5):\n",
    "    print(quote[i])\n",
    "    \n",
    "print(len(quote))\n"
   ]
  },
  {
   "cell_type": "code",
   "execution_count": null,
   "metadata": {},
   "outputs": [],
   "source": []
  },
  {
   "cell_type": "code",
   "execution_count": null,
   "metadata": {},
   "outputs": [],
   "source": []
  },
  {
   "cell_type": "code",
   "execution_count": null,
   "metadata": {},
   "outputs": [],
   "source": []
  }
 ],
 "metadata": {
  "kernelspec": {
   "display_name": "Python 3",
   "language": "python",
   "name": "python3"
  },
  "language_info": {
   "codemirror_mode": {
    "name": "ipython",
    "version": 3
   },
   "file_extension": ".py",
   "mimetype": "text/x-python",
   "name": "python",
   "nbconvert_exporter": "python",
   "pygments_lexer": "ipython3",
   "version": "3.7.3"
  }
 },
 "nbformat": 4,
 "nbformat_minor": 2
}
