{
 "cells": [
  {
   "cell_type": "code",
   "execution_count": 5,
   "metadata": {},
   "outputs": [
    {
     "name": "stdout",
     "output_type": "stream",
     "text": [
      "1 孙少平 少平\n",
      "\n",
      "1 顾养民 养民\n",
      "\n",
      "1 金波\n",
      "\n",
      "1 田福堂 福堂\n",
      "\n",
      "1 田润生 润生\n",
      "\n",
      "125\n"
     ]
    }
   ],
   "source": [
    "# 读取所有的人物，共125人\n",
    "with open(r\"./new_name.txt\") as fr:\n",
    "    new_name=fr.readlines()\n",
    "for i in range(5):\n",
    "    print(new_name[i])  # 性别，人名，别名，等\n",
    "print(len(new_name))"
   ]
  },
  {
   "cell_type": "code",
   "execution_count": 6,
   "metadata": {},
   "outputs": [
    {
     "name": "stdout",
     "output_type": "stream",
     "text": [
      "145\t“好！”\n",
      "\n",
      "146\t“我担心这小子要和我打架。”\n",
      "\n",
      "148\t“他小子敢！”\n",
      "\n",
      "235\t“《红岩》是一本好书，但以后你不要在课堂上看了。去吧……” \n",
      "\n",
      "261\t“那天，老师没收了你的那本书，叫什么名字？” \n",
      "\n",
      "2968\n"
     ]
    }
   ],
   "source": [
    "#读取对话,共2968句（最原始的对话），\n",
    "with open(r\"./quote.txt\") as fr:\n",
    "    quote = fr.readlines()\n",
    "for i in range(5):\n",
    "    print(quote[i])  # 在分句中的索引，对话内容\n",
    "    \n",
    "print(len(quote))\n"
   ]
  },
  {
   "cell_type": "code",
   "execution_count": 10,
   "metadata": {},
   "outputs": [
    {
     "name": "stdout",
     "output_type": "stream",
     "text": [
      "0\t3\n",
      "\n",
      "1\t1\n",
      "\n",
      "2\t3\n",
      "\n",
      "5\t1\n",
      "\n",
      "7\t1\n",
      "\n",
      "2596\n"
     ]
    }
   ],
   "source": [
    "with open(r\"./new_can_judge.txt\") as fr:\n",
    "    new_can_judge = fr.readlines()\n",
    "for i in range(5):\n",
    "    print(new_can_judge[i]) # quote中的索引(index from 0), 在new_name中的任务索引（index from 1） \n",
    "print(len(new_can_judge))"
   ]
  },
  {
   "cell_type": "code",
   "execution_count": null,
   "metadata": {},
   "outputs": [],
   "source": []
  },
  {
   "cell_type": "code",
   "execution_count": null,
   "metadata": {},
   "outputs": [],
   "source": []
  }
 ],
 "metadata": {
  "kernelspec": {
   "display_name": "Python 3",
   "language": "python",
   "name": "python3"
  },
  "language_info": {
   "codemirror_mode": {
    "name": "ipython",
    "version": 3
   },
   "file_extension": ".py",
   "mimetype": "text/x-python",
   "name": "python",
   "nbconvert_exporter": "python",
   "pygments_lexer": "ipython3",
   "version": "3.7.3"
  }
 },
 "nbformat": 4,
 "nbformat_minor": 2
}
